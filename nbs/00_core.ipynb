{
 "cells": [
  {
   "cell_type": "code",
   "execution_count": null,
   "id": "04e76a3b",
   "metadata": {},
   "outputs": [],
   "source": [
    "#| default_exp core"
   ]
  },
  {
   "cell_type": "markdown",
   "id": "b0499d4c",
   "metadata": {},
   "source": [
    "# llm_ctx\n",
    "> Source code for llm_ctx"
   ]
  },
  {
   "cell_type": "code",
   "execution_count": null,
   "id": "130e84f2",
   "metadata": {},
   "outputs": [],
   "source": [
    "#| export\n",
    "from fastcore.utils import *\n",
    "from fastcore.xml import *\n",
    "from fastcore.script import *\n",
    "import httpx"
   ]
  },
  {
   "cell_type": "markdown",
   "id": "81c3ec89",
   "metadata": {},
   "source": [
    "We'll use an `llms.txt` file for FastHTML for our examples."
   ]
  },
  {
   "cell_type": "code",
   "execution_count": null,
   "id": "e7d9506c",
   "metadata": {},
   "outputs": [],
   "source": [
    "path = Path('llms.txt')\n",
    "txt = path.read_text()"
   ]
  },
  {
   "cell_type": "code",
   "execution_count": null,
   "id": "eb998194",
   "metadata": {},
   "outputs": [],
   "source": [
    "#| export\n",
    "def _parse_links(content):\n",
    "    link_pat = r'^\\s*-\\s*\\[(.+?)\\]\\((.+?)\\)(?:\\s*:\\s*(.*))?$'\n",
    "    return [dict(zip(['title','url','info'], m.groups())) \n",
    "            for m in re.finditer(link_pat, content, re.M)]\n",
    "\n",
    "def parse_llm_txt(md):\n",
    "    \"Parse fasthtml markdown into structured dict\"\n",
    "    title = re.findall(r'^# (.+)$', md, re.M)[0]\n",
    "    summary = re.findall(r'^> (.+)$', md, re.M)[0]\n",
    "    section_pat = r'^## (.+)$'\n",
    "    sec_spl = re.split(section_pat, md, flags=re.MULTILINE)[1:]\n",
    "    sections = {t.strip():_parse_links(c)\n",
    "                for t,c in zip(sec_spl[::2], sec_spl[1::2])}\n",
    "    return dict2obj(dict(title=title.strip(), summary=summary.strip(), sections=sections))"
   ]
  },
  {
   "cell_type": "markdown",
   "id": "ced02e5c",
   "metadata": {},
   "source": [
    "The returned `dict` contains the summary and title of the file..."
   ]
  },
  {
   "cell_type": "code",
   "execution_count": null,
   "id": "58119655",
   "metadata": {},
   "outputs": [
    {
     "data": {
      "text/plain": [
       "('FastHTML',\n",
       " 'FastHTML is a python library which brings together Starlette, Uvicorn, HTMX, and fastcore\\'s `FT` \"FastTags\" into a library for creating server-rendered hypermedia applications. The `FastHTML` class itself inherits from `Starlette`, and adds decorator-based routing with many additions, Beforeware, automatic `FT` to HTML rendering, and much more. Although parts of its API are inspired by FastAPI, it is *not* compatible with FastAPI syntax and is not targeted at creating API services. FastHTML includes support for Pico CSS and the fastlite sqlite library, although using both are optional; sqlite can be used directly or via the fastsql library, and any CSS framework can be used. FastHTML is compatible with web components and any vanilla JS library, but not with React, Vue, or Svelte. Support for the Surreal and css-scope-inline libraries are also included, but both are optional.')"
      ]
     },
     "execution_count": null,
     "metadata": {},
     "output_type": "execute_result"
    }
   ],
   "source": [
    "d = parse_llm_txt(txt)\n",
    "d.title, d.summary"
   ]
  },
  {
   "cell_type": "markdown",
   "id": "183ec528",
   "metadata": {},
   "source": [
    "...along with each of the H2-defined sections."
   ]
  },
  {
   "cell_type": "code",
   "execution_count": null,
   "id": "1be1a3db",
   "metadata": {},
   "outputs": [
    {
     "data": {
      "text/plain": [
       "['Docs', 'Examples', 'Optional']"
      ]
     },
     "execution_count": null,
     "metadata": {},
     "output_type": "execute_result"
    }
   ],
   "source": [
    "list(d.sections)"
   ]
  },
  {
   "cell_type": "markdown",
   "id": "6c58f319",
   "metadata": {},
   "source": [
    "Each section contains a list of URLs and optional extra info on each one."
   ]
  },
  {
   "cell_type": "code",
   "execution_count": null,
   "id": "4c86b0dd",
   "metadata": {},
   "outputs": [
    {
     "data": {
      "text/plain": [
       "(#1) [{'title': 'Starlette documentation', 'url': 'https://gist.githubusercontent.com/jph00/809e4a4808d4510be0e3dc9565e9cbd3/raw/9b717589ca44cedc8aaf00b2b8cacef922964c0f/starlette-sml.md', 'info': 'A subset of the Starlette documentation useful for FastHTML development'}]"
      ]
     },
     "execution_count": null,
     "metadata": {},
     "output_type": "execute_result"
    }
   ],
   "source": [
    "d.sections.Optional"
   ]
  },
  {
   "cell_type": "code",
   "execution_count": null,
   "id": "e4a529a9",
   "metadata": {},
   "outputs": [],
   "source": [
    "#| export\n",
    "Sections = partial(ft, 'sections')\n",
    "Project = partial(ft, 'project')"
   ]
  },
  {
   "cell_type": "code",
   "execution_count": null,
   "id": "f5f184ad",
   "metadata": {},
   "outputs": [],
   "source": [
    "#| export\n",
    "def Doc(url, **kw):\n",
    "    \"Create a `Doc` FT object with the text retrieved from `url` as the child, and `kw` as attrs.\"\n",
    "    re_comment = re.compile('^<!--.*-->$', flags=re.MULTILINE)\n",
    "    txt = [o for o in httpx.get(url).text.splitlines() if not re_comment.search(o)]\n",
    "    return ft('doc', '\\n'.join(txt), **kw)"
   ]
  },
  {
   "cell_type": "code",
   "execution_count": null,
   "id": "470abbfe",
   "metadata": {},
   "outputs": [],
   "source": [
    "#| export\n",
    "def Section(nm, items):\n",
    "    \"Create a `Section` FT object containing a `Doc` object for each child.\"\n",
    "    return ft(nm, *[Doc(**o) for o in items])"
   ]
  },
  {
   "cell_type": "code",
   "execution_count": null,
   "id": "e9a15def",
   "metadata": {},
   "outputs": [],
   "source": [
    "#| export\n",
    "def mk_ctx(d, optional=True):\n",
    "    \"Create a `Project` with a `Section` for each H2 part in `d`, optionally skipping the 'optional' section.\"\n",
    "    skip = '' if optional else 'Optional'\n",
    "    sections = [Section(k, v) for k,v in d.sections.items() if k!=skip]\n",
    "    return Project(title=d.title, summary=d.summary)(*sections)"
   ]
  },
  {
   "cell_type": "code",
   "execution_count": null,
   "id": "2f9598d0",
   "metadata": {},
   "outputs": [],
   "source": [
    "ctx = mk_ctx(d)"
   ]
  },
  {
   "cell_type": "code",
   "execution_count": null,
   "id": "c3546156",
   "metadata": {},
   "outputs": [
    {
     "data": {
      "text/plain": [
       "('FastHTML quick start', 'A brief overview of many FastHTML features')"
      ]
     },
     "execution_count": null,
     "metadata": {},
     "output_type": "execute_result"
    }
   ],
   "source": [
    "d0 = ctx.children[0].children[2]\n",
    "d0.title,d0.info"
   ]
  },
  {
   "cell_type": "code",
   "execution_count": null,
   "id": "78b7b83c",
   "metadata": {},
   "outputs": [
    {
     "data": {
      "text/plain": [
       "'# Web Devs Quickstart\\n\\n\\n\\n<div>\\n\\n> **Note**\\n>\\n> We’re going to be adding more to this document, so check back\\n> frequently for updates.\\n\\n</div>\\n\\n## Installation\\n\\n``` bash\\npip instal'"
      ]
     },
     "execution_count": null,
     "metadata": {},
     "output_type": "execute_result"
    }
   ],
   "source": [
    "d0.children[0][:180]"
   ]
  },
  {
   "cell_type": "code",
   "execution_count": null,
   "id": "7d6816a9",
   "metadata": {},
   "outputs": [],
   "source": [
    "#| export\n",
    "def get_sizes(ctx):\n",
    "    return {o.tag:{p.title:len(p.children[0]) for p in o.children} for o in ctx.children}"
   ]
  },
  {
   "cell_type": "code",
   "execution_count": null,
   "id": "213f450b",
   "metadata": {},
   "outputs": [
    {
     "data": {
      "text/plain": [
       "{'docs': {'Surreal': 17720,\n",
       "  'CSS Scope Inline': 7836,\n",
       "  'FastHTML quick start': 19364,\n",
       "  'HTMX reference': 26427},\n",
       " 'examples': {'Todo list application': 18588, 'Websockets application': 693},\n",
       " 'optional': {'Starlette documentation': 48331}}"
      ]
     },
     "execution_count": null,
     "metadata": {},
     "output_type": "execute_result"
    }
   ],
   "source": [
    "get_sizes(ctx)"
   ]
  },
  {
   "cell_type": "code",
   "execution_count": null,
   "id": "983b6532",
   "metadata": {},
   "outputs": [
    {
     "data": {
      "text/plain": [
       "151269"
      ]
     },
     "execution_count": null,
     "metadata": {},
     "output_type": "execute_result"
    }
   ],
   "source": [
    "Path('fasthtml.md').write_text(to_xml(ctx))"
   ]
  },
  {
   "cell_type": "code",
   "execution_count": null,
   "id": "57880ed3",
   "metadata": {},
   "outputs": [],
   "source": [
    "#| export\n",
    "@call_parse\n",
    "def llms_txt2ctx(\n",
    "    fname:str, # File name to read\n",
    "    optional:bool_arg=True # Skip 'optional' section?\n",
    "):\n",
    "    \"Print a `Project` with a `Section` for each H2 part in file read from `fname`, optionally skipping the 'optional' section..\"\n",
    "    skip = '' if optional else 'Optional'\n",
    "    sections = [Section(k, v) for k,v in d.sections.items() if k!=skip]\n",
    "    ctx = Project(title=d.title, summary=d.summary)(*sections)\n",
    "    print(to_xml(ctx))"
   ]
  },
  {
   "cell_type": "code",
   "execution_count": null,
   "id": "0a8c4f14",
   "metadata": {},
   "outputs": [],
   "source": [
    "from contextlib import redirect_stdout"
   ]
  },
  {
   "cell_type": "code",
   "execution_count": null,
   "id": "a572b85c",
   "metadata": {},
   "outputs": [],
   "source": [
    "with open('fasthtml-noopt.md', 'w') as f:\n",
    "    with redirect_stdout(f): llms_txt2ctx.__wrapped__('llms.txt', optional=False)"
   ]
  },
  {
   "cell_type": "code",
   "execution_count": null,
   "id": "e0ec6dd5",
   "metadata": {},
   "outputs": [],
   "source": []
  }
 ],
 "metadata": {
  "kernelspec": {
   "display_name": "python3",
   "language": "python",
   "name": "python3"
  }
 },
 "nbformat": 4,
 "nbformat_minor": 5
}
